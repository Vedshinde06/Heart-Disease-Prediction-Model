{
 "cells": [
  {
   "cell_type": "code",
   "execution_count": 1,
   "id": "90a6d768",
   "metadata": {
    "_cell_guid": "b1076dfc-b9ad-4769-8c92-a6c4dae69d19",
    "_uuid": "8f2839f25d086af736a60e9eeb907d3b93b6e0e5",
    "execution": {
     "iopub.execute_input": "2025-04-03T18:08:26.594907Z",
     "iopub.status.busy": "2025-04-03T18:08:26.594528Z",
     "iopub.status.idle": "2025-04-03T18:08:27.653777Z",
     "shell.execute_reply": "2025-04-03T18:08:27.652592Z"
    },
    "papermill": {
     "duration": 1.070189,
     "end_time": "2025-04-03T18:08:27.655547",
     "exception": false,
     "start_time": "2025-04-03T18:08:26.585358",
     "status": "completed"
    },
    "tags": []
   },
   "outputs": [
    {
     "name": "stdout",
     "output_type": "stream",
     "text": [
      "/kaggle/input/heart-disease/heart.csv\n"
     ]
    }
   ],
   "source": [
    "# This Python 3 environment comes with many helpful analytics libraries installed\n",
    "# It is defined by the kaggle/python Docker image: https://github.com/kaggle/docker-python\n",
    "# For example, here's several helpful packages to load\n",
    "\n",
    "import numpy as np # linear algebra\n",
    "import pandas as pd # data processing, CSV file I/O (e.g. pd.read_csv)\n",
    "\n",
    "# Input data files are available in the read-only \"../input/\" directory\n",
    "# For example, running this (by clicking run or pressing Shift+Enter) will list all files under the input directory\n",
    "\n",
    "import os\n",
    "for dirname, _, filenames in os.walk('/kaggle/input'):\n",
    "    for filename in filenames:\n",
    "        print(os.path.join(dirname, filename))\n",
    "\n",
    "# You can write up to 20GB to the current directory (/kaggle/working/) that gets preserved as output when you create a version using \"Save & Run All\" \n",
    "# You can also write temporary files to /kaggle/temp/, but they won't be saved outside of the current session"
   ]
  },
  {
   "cell_type": "code",
   "execution_count": 2,
   "id": "dff2b797",
   "metadata": {
    "execution": {
     "iopub.execute_input": "2025-04-03T18:08:27.670981Z",
     "iopub.status.busy": "2025-04-03T18:08:27.670508Z",
     "iopub.status.idle": "2025-04-03T18:08:27.694286Z",
     "shell.execute_reply": "2025-04-03T18:08:27.693228Z"
    },
    "papermill": {
     "duration": 0.033266,
     "end_time": "2025-04-03T18:08:27.696070",
     "exception": false,
     "start_time": "2025-04-03T18:08:27.662804",
     "status": "completed"
    },
    "tags": []
   },
   "outputs": [],
   "source": [
    "df = pd.read_csv('/kaggle/input/heart-disease/heart.csv')"
   ]
  },
  {
   "cell_type": "code",
   "execution_count": 3,
   "id": "c240aae2",
   "metadata": {
    "execution": {
     "iopub.execute_input": "2025-04-03T18:08:27.711015Z",
     "iopub.status.busy": "2025-04-03T18:08:27.710601Z",
     "iopub.status.idle": "2025-04-03T18:08:27.749271Z",
     "shell.execute_reply": "2025-04-03T18:08:27.748259Z"
    },
    "papermill": {
     "duration": 0.047714,
     "end_time": "2025-04-03T18:08:27.750793",
     "exception": false,
     "start_time": "2025-04-03T18:08:27.703079",
     "status": "completed"
    },
    "tags": []
   },
   "outputs": [
    {
     "data": {
      "text/html": [
       "<div>\n",
       "<style scoped>\n",
       "    .dataframe tbody tr th:only-of-type {\n",
       "        vertical-align: middle;\n",
       "    }\n",
       "\n",
       "    .dataframe tbody tr th {\n",
       "        vertical-align: top;\n",
       "    }\n",
       "\n",
       "    .dataframe thead th {\n",
       "        text-align: right;\n",
       "    }\n",
       "</style>\n",
       "<table border=\"1\" class=\"dataframe\">\n",
       "  <thead>\n",
       "    <tr style=\"text-align: right;\">\n",
       "      <th></th>\n",
       "      <th>age</th>\n",
       "      <th>sex</th>\n",
       "      <th>cp</th>\n",
       "      <th>trestbps</th>\n",
       "      <th>chol</th>\n",
       "      <th>fbs</th>\n",
       "      <th>restecg</th>\n",
       "      <th>thalach</th>\n",
       "      <th>exang</th>\n",
       "      <th>oldpeak</th>\n",
       "      <th>slope</th>\n",
       "      <th>ca</th>\n",
       "      <th>thal</th>\n",
       "      <th>target</th>\n",
       "    </tr>\n",
       "  </thead>\n",
       "  <tbody>\n",
       "    <tr>\n",
       "      <th>1</th>\n",
       "      <td>37</td>\n",
       "      <td>1</td>\n",
       "      <td>2</td>\n",
       "      <td>130</td>\n",
       "      <td>250</td>\n",
       "      <td>0</td>\n",
       "      <td>1</td>\n",
       "      <td>187</td>\n",
       "      <td>0</td>\n",
       "      <td>3.5</td>\n",
       "      <td>0</td>\n",
       "      <td>0</td>\n",
       "      <td>2</td>\n",
       "      <td>1</td>\n",
       "    </tr>\n",
       "    <tr>\n",
       "      <th>242</th>\n",
       "      <td>64</td>\n",
       "      <td>1</td>\n",
       "      <td>0</td>\n",
       "      <td>145</td>\n",
       "      <td>212</td>\n",
       "      <td>0</td>\n",
       "      <td>0</td>\n",
       "      <td>132</td>\n",
       "      <td>0</td>\n",
       "      <td>2.0</td>\n",
       "      <td>1</td>\n",
       "      <td>2</td>\n",
       "      <td>1</td>\n",
       "      <td>0</td>\n",
       "    </tr>\n",
       "    <tr>\n",
       "      <th>106</th>\n",
       "      <td>69</td>\n",
       "      <td>1</td>\n",
       "      <td>3</td>\n",
       "      <td>160</td>\n",
       "      <td>234</td>\n",
       "      <td>1</td>\n",
       "      <td>0</td>\n",
       "      <td>131</td>\n",
       "      <td>0</td>\n",
       "      <td>0.1</td>\n",
       "      <td>1</td>\n",
       "      <td>1</td>\n",
       "      <td>2</td>\n",
       "      <td>1</td>\n",
       "    </tr>\n",
       "    <tr>\n",
       "      <th>68</th>\n",
       "      <td>44</td>\n",
       "      <td>1</td>\n",
       "      <td>1</td>\n",
       "      <td>120</td>\n",
       "      <td>220</td>\n",
       "      <td>0</td>\n",
       "      <td>1</td>\n",
       "      <td>170</td>\n",
       "      <td>0</td>\n",
       "      <td>0.0</td>\n",
       "      <td>2</td>\n",
       "      <td>0</td>\n",
       "      <td>2</td>\n",
       "      <td>1</td>\n",
       "    </tr>\n",
       "    <tr>\n",
       "      <th>144</th>\n",
       "      <td>76</td>\n",
       "      <td>0</td>\n",
       "      <td>2</td>\n",
       "      <td>140</td>\n",
       "      <td>197</td>\n",
       "      <td>0</td>\n",
       "      <td>2</td>\n",
       "      <td>116</td>\n",
       "      <td>0</td>\n",
       "      <td>1.1</td>\n",
       "      <td>1</td>\n",
       "      <td>0</td>\n",
       "      <td>2</td>\n",
       "      <td>1</td>\n",
       "    </tr>\n",
       "  </tbody>\n",
       "</table>\n",
       "</div>"
      ],
      "text/plain": [
       "     age  sex  cp  trestbps  chol  fbs  restecg  thalach  exang  oldpeak  \\\n",
       "1     37    1   2       130   250    0        1      187      0      3.5   \n",
       "242   64    1   0       145   212    0        0      132      0      2.0   \n",
       "106   69    1   3       160   234    1        0      131      0      0.1   \n",
       "68    44    1   1       120   220    0        1      170      0      0.0   \n",
       "144   76    0   2       140   197    0        2      116      0      1.1   \n",
       "\n",
       "     slope  ca  thal  target  \n",
       "1        0   0     2       1  \n",
       "242      1   2     1       0  \n",
       "106      1   1     2       1  \n",
       "68       2   0     2       1  \n",
       "144      1   0     2       1  "
      ]
     },
     "execution_count": 3,
     "metadata": {},
     "output_type": "execute_result"
    }
   ],
   "source": [
    "df.sample(5)"
   ]
  },
  {
   "cell_type": "code",
   "execution_count": 4,
   "id": "491a6eb3",
   "metadata": {
    "execution": {
     "iopub.execute_input": "2025-04-03T18:08:27.766175Z",
     "iopub.status.busy": "2025-04-03T18:08:27.765741Z",
     "iopub.status.idle": "2025-04-03T18:08:27.771679Z",
     "shell.execute_reply": "2025-04-03T18:08:27.770815Z"
    },
    "papermill": {
     "duration": 0.01544,
     "end_time": "2025-04-03T18:08:27.773435",
     "exception": false,
     "start_time": "2025-04-03T18:08:27.757995",
     "status": "completed"
    },
    "tags": []
   },
   "outputs": [
    {
     "data": {
      "text/plain": [
       "(303, 14)"
      ]
     },
     "execution_count": 4,
     "metadata": {},
     "output_type": "execute_result"
    }
   ],
   "source": [
    "df.shape"
   ]
  },
  {
   "cell_type": "code",
   "execution_count": 5,
   "id": "bd7a7b5f",
   "metadata": {
    "execution": {
     "iopub.execute_input": "2025-04-03T18:08:27.794223Z",
     "iopub.status.busy": "2025-04-03T18:08:27.793763Z",
     "iopub.status.idle": "2025-04-03T18:08:27.801226Z",
     "shell.execute_reply": "2025-04-03T18:08:27.800230Z"
    },
    "papermill": {
     "duration": 0.017519,
     "end_time": "2025-04-03T18:08:27.802912",
     "exception": false,
     "start_time": "2025-04-03T18:08:27.785393",
     "status": "completed"
    },
    "tags": []
   },
   "outputs": [],
   "source": [
    "x = df.drop('target', axis=1)\n",
    "y = df['target']"
   ]
  },
  {
   "cell_type": "code",
   "execution_count": 6,
   "id": "a44e953e",
   "metadata": {
    "execution": {
     "iopub.execute_input": "2025-04-03T18:08:27.819680Z",
     "iopub.status.busy": "2025-04-03T18:08:27.819228Z",
     "iopub.status.idle": "2025-04-03T18:08:27.827733Z",
     "shell.execute_reply": "2025-04-03T18:08:27.826665Z"
    },
    "papermill": {
     "duration": 0.018498,
     "end_time": "2025-04-03T18:08:27.829330",
     "exception": false,
     "start_time": "2025-04-03T18:08:27.810832",
     "status": "completed"
    },
    "tags": []
   },
   "outputs": [
    {
     "data": {
      "text/plain": [
       "0      1\n",
       "1      1\n",
       "2      1\n",
       "3      1\n",
       "4      1\n",
       "      ..\n",
       "298    0\n",
       "299    0\n",
       "300    0\n",
       "301    0\n",
       "302    0\n",
       "Name: target, Length: 303, dtype: int64"
      ]
     },
     "execution_count": 6,
     "metadata": {},
     "output_type": "execute_result"
    }
   ],
   "source": [
    "y"
   ]
  },
  {
   "cell_type": "code",
   "execution_count": 7,
   "id": "dc99db05",
   "metadata": {
    "execution": {
     "iopub.execute_input": "2025-04-03T18:08:27.845514Z",
     "iopub.status.busy": "2025-04-03T18:08:27.845036Z",
     "iopub.status.idle": "2025-04-03T18:08:29.671032Z",
     "shell.execute_reply": "2025-04-03T18:08:29.670043Z"
    },
    "papermill": {
     "duration": 1.835979,
     "end_time": "2025-04-03T18:08:29.672768",
     "exception": false,
     "start_time": "2025-04-03T18:08:27.836789",
     "status": "completed"
    },
    "tags": []
   },
   "outputs": [],
   "source": [
    "from sklearn.preprocessing import StandardScaler\n",
    "from sklearn.model_selection import train_test_split\n",
    "from sklearn.decomposition import PCA"
   ]
  },
  {
   "cell_type": "markdown",
   "id": "e4ff5391",
   "metadata": {
    "papermill": {
     "duration": 0.006534,
     "end_time": "2025-04-03T18:08:29.686920",
     "exception": false,
     "start_time": "2025-04-03T18:08:29.680386",
     "status": "completed"
    },
    "tags": []
   },
   "source": [
    "# Train Test Split\n"
   ]
  },
  {
   "cell_type": "code",
   "execution_count": 8,
   "id": "4618478e",
   "metadata": {
    "execution": {
     "iopub.execute_input": "2025-04-03T18:08:29.702320Z",
     "iopub.status.busy": "2025-04-03T18:08:29.701800Z",
     "iopub.status.idle": "2025-04-03T18:08:29.707846Z",
     "shell.execute_reply": "2025-04-03T18:08:29.706960Z"
    },
    "papermill": {
     "duration": 0.01574,
     "end_time": "2025-04-03T18:08:29.709637",
     "exception": false,
     "start_time": "2025-04-03T18:08:29.693897",
     "status": "completed"
    },
    "tags": []
   },
   "outputs": [],
   "source": [
    "x_train,x_test,y_train,y_test = train_test_split(x,y,test_size=0.2,random_state=42)"
   ]
  },
  {
   "cell_type": "code",
   "execution_count": 9,
   "id": "3a6c4b45",
   "metadata": {
    "execution": {
     "iopub.execute_input": "2025-04-03T18:08:29.725452Z",
     "iopub.status.busy": "2025-04-03T18:08:29.725064Z",
     "iopub.status.idle": "2025-04-03T18:08:29.737457Z",
     "shell.execute_reply": "2025-04-03T18:08:29.736608Z"
    },
    "papermill": {
     "duration": 0.022088,
     "end_time": "2025-04-03T18:08:29.739063",
     "exception": false,
     "start_time": "2025-04-03T18:08:29.716975",
     "status": "completed"
    },
    "tags": []
   },
   "outputs": [
    {
     "data": {
      "text/html": [
       "<div>\n",
       "<style scoped>\n",
       "    .dataframe tbody tr th:only-of-type {\n",
       "        vertical-align: middle;\n",
       "    }\n",
       "\n",
       "    .dataframe tbody tr th {\n",
       "        vertical-align: top;\n",
       "    }\n",
       "\n",
       "    .dataframe thead th {\n",
       "        text-align: right;\n",
       "    }\n",
       "</style>\n",
       "<table border=\"1\" class=\"dataframe\">\n",
       "  <thead>\n",
       "    <tr style=\"text-align: right;\">\n",
       "      <th></th>\n",
       "      <th>age</th>\n",
       "      <th>sex</th>\n",
       "      <th>cp</th>\n",
       "      <th>trestbps</th>\n",
       "      <th>chol</th>\n",
       "      <th>fbs</th>\n",
       "      <th>restecg</th>\n",
       "      <th>thalach</th>\n",
       "      <th>exang</th>\n",
       "      <th>oldpeak</th>\n",
       "      <th>slope</th>\n",
       "      <th>ca</th>\n",
       "      <th>thal</th>\n",
       "    </tr>\n",
       "  </thead>\n",
       "  <tbody>\n",
       "    <tr>\n",
       "      <th>285</th>\n",
       "      <td>46</td>\n",
       "      <td>1</td>\n",
       "      <td>0</td>\n",
       "      <td>140</td>\n",
       "      <td>311</td>\n",
       "      <td>0</td>\n",
       "      <td>1</td>\n",
       "      <td>120</td>\n",
       "      <td>1</td>\n",
       "      <td>1.8</td>\n",
       "      <td>1</td>\n",
       "      <td>2</td>\n",
       "      <td>3</td>\n",
       "    </tr>\n",
       "  </tbody>\n",
       "</table>\n",
       "</div>"
      ],
      "text/plain": [
       "     age  sex  cp  trestbps  chol  fbs  restecg  thalach  exang  oldpeak  \\\n",
       "285   46    1   0       140   311    0        1      120      1      1.8   \n",
       "\n",
       "     slope  ca  thal  \n",
       "285      1   2     3  "
      ]
     },
     "execution_count": 9,
     "metadata": {},
     "output_type": "execute_result"
    }
   ],
   "source": [
    "x_test.sample()"
   ]
  },
  {
   "cell_type": "code",
   "execution_count": 10,
   "id": "baae1d44",
   "metadata": {
    "execution": {
     "iopub.execute_input": "2025-04-03T18:08:29.755274Z",
     "iopub.status.busy": "2025-04-03T18:08:29.754899Z",
     "iopub.status.idle": "2025-04-03T18:08:29.761430Z",
     "shell.execute_reply": "2025-04-03T18:08:29.760554Z"
    },
    "papermill": {
     "duration": 0.016289,
     "end_time": "2025-04-03T18:08:29.763009",
     "exception": false,
     "start_time": "2025-04-03T18:08:29.746720",
     "status": "completed"
    },
    "tags": []
   },
   "outputs": [
    {
     "data": {
      "text/plain": [
       "193    0\n",
       "Name: target, dtype: int64"
      ]
     },
     "execution_count": 10,
     "metadata": {},
     "output_type": "execute_result"
    }
   ],
   "source": [
    "y_test.sample()"
   ]
  },
  {
   "cell_type": "markdown",
   "id": "bd7de705",
   "metadata": {
    "papermill": {
     "duration": 0.00748,
     "end_time": "2025-04-03T18:08:29.778332",
     "exception": false,
     "start_time": "2025-04-03T18:08:29.770852",
     "status": "completed"
    },
    "tags": []
   },
   "source": [
    "# Standardization\n",
    "not needed for XGboost"
   ]
  },
  {
   "cell_type": "code",
   "execution_count": 11,
   "id": "2e809673",
   "metadata": {
    "execution": {
     "iopub.execute_input": "2025-04-03T18:08:29.795038Z",
     "iopub.status.busy": "2025-04-03T18:08:29.794692Z",
     "iopub.status.idle": "2025-04-03T18:08:29.798885Z",
     "shell.execute_reply": "2025-04-03T18:08:29.797943Z"
    },
    "papermill": {
     "duration": 0.014131,
     "end_time": "2025-04-03T18:08:29.800479",
     "exception": false,
     "start_time": "2025-04-03T18:08:29.786348",
     "status": "completed"
    },
    "tags": []
   },
   "outputs": [],
   "source": [
    "ss = StandardScaler()"
   ]
  },
  {
   "cell_type": "code",
   "execution_count": 12,
   "id": "9dda155b",
   "metadata": {
    "execution": {
     "iopub.execute_input": "2025-04-03T18:08:29.816899Z",
     "iopub.status.busy": "2025-04-03T18:08:29.816576Z",
     "iopub.status.idle": "2025-04-03T18:08:29.826455Z",
     "shell.execute_reply": "2025-04-03T18:08:29.825592Z"
    },
    "papermill": {
     "duration": 0.019821,
     "end_time": "2025-04-03T18:08:29.828036",
     "exception": false,
     "start_time": "2025-04-03T18:08:29.808215",
     "status": "completed"
    },
    "tags": []
   },
   "outputs": [],
   "source": [
    "x_train_trans = ss.fit_transform(x_train)\n",
    "x_test_trans = ss.transform(x_test)"
   ]
  },
  {
   "cell_type": "code",
   "execution_count": 13,
   "id": "e3955c5d",
   "metadata": {
    "execution": {
     "iopub.execute_input": "2025-04-03T18:08:29.846281Z",
     "iopub.status.busy": "2025-04-03T18:08:29.845829Z",
     "iopub.status.idle": "2025-04-03T18:08:29.852058Z",
     "shell.execute_reply": "2025-04-03T18:08:29.851047Z"
    },
    "papermill": {
     "duration": 0.017434,
     "end_time": "2025-04-03T18:08:29.853650",
     "exception": false,
     "start_time": "2025-04-03T18:08:29.836216",
     "status": "completed"
    },
    "tags": []
   },
   "outputs": [
    {
     "data": {
      "text/plain": [
       "array([[-1.35679832,  0.72250438,  0.00809909, ...,  0.95390513,\n",
       "        -0.68970073, -0.50904773],\n",
       "       [ 0.38508599,  0.72250438, -0.97189094, ...,  0.95390513,\n",
       "        -0.68970073,  1.17848036],\n",
       "       [-0.92132724,  0.72250438,  0.98808912, ..., -0.69498803,\n",
       "        -0.68970073, -0.50904773],\n",
       "       ...,\n",
       "       [ 1.58263146,  0.72250438,  1.96807914, ..., -0.69498803,\n",
       "         0.32186034, -0.50904773],\n",
       "       [-0.92132724,  0.72250438, -0.97189094, ...,  0.95390513,\n",
       "        -0.68970073,  1.17848036],\n",
       "       [ 0.92942484, -1.38407465,  0.00809909, ...,  0.95390513,\n",
       "         1.33342142, -0.50904773]])"
      ]
     },
     "execution_count": 13,
     "metadata": {},
     "output_type": "execute_result"
    }
   ],
   "source": [
    "x_train_trans"
   ]
  },
  {
   "cell_type": "markdown",
   "id": "94caf668",
   "metadata": {
    "papermill": {
     "duration": 0.007183,
     "end_time": "2025-04-03T18:08:29.868821",
     "exception": false,
     "start_time": "2025-04-03T18:08:29.861638",
     "status": "completed"
    },
    "tags": []
   },
   "source": [
    "# PCA for Data visulization"
   ]
  },
  {
   "cell_type": "code",
   "execution_count": 14,
   "id": "95f86bef",
   "metadata": {
    "execution": {
     "iopub.execute_input": "2025-04-03T18:08:29.885032Z",
     "iopub.status.busy": "2025-04-03T18:08:29.884676Z",
     "iopub.status.idle": "2025-04-03T18:08:29.888865Z",
     "shell.execute_reply": "2025-04-03T18:08:29.887834Z"
    },
    "papermill": {
     "duration": 0.014226,
     "end_time": "2025-04-03T18:08:29.890548",
     "exception": false,
     "start_time": "2025-04-03T18:08:29.876322",
     "status": "completed"
    },
    "tags": []
   },
   "outputs": [],
   "source": [
    "pca = PCA(n_components=2)"
   ]
  },
  {
   "cell_type": "code",
   "execution_count": 15,
   "id": "7843d0a2",
   "metadata": {
    "execution": {
     "iopub.execute_input": "2025-04-03T18:08:29.907081Z",
     "iopub.status.busy": "2025-04-03T18:08:29.906762Z",
     "iopub.status.idle": "2025-04-03T18:08:29.978623Z",
     "shell.execute_reply": "2025-04-03T18:08:29.977782Z"
    },
    "papermill": {
     "duration": 0.082064,
     "end_time": "2025-04-03T18:08:29.980523",
     "exception": false,
     "start_time": "2025-04-03T18:08:29.898459",
     "status": "completed"
    },
    "tags": []
   },
   "outputs": [],
   "source": [
    "x_train_pca = pca.fit_transform(x_train)"
   ]
  },
  {
   "cell_type": "code",
   "execution_count": 16,
   "id": "051ab146",
   "metadata": {
    "execution": {
     "iopub.execute_input": "2025-04-03T18:08:29.997008Z",
     "iopub.status.busy": "2025-04-03T18:08:29.996660Z",
     "iopub.status.idle": "2025-04-03T18:08:30.000889Z",
     "shell.execute_reply": "2025-04-03T18:08:29.999720Z"
    },
    "papermill": {
     "duration": 0.01425,
     "end_time": "2025-04-03T18:08:30.002551",
     "exception": false,
     "start_time": "2025-04-03T18:08:29.988301",
     "status": "completed"
    },
    "tags": []
   },
   "outputs": [],
   "source": [
    "import matplotlib.pyplot as plt"
   ]
  },
  {
   "cell_type": "code",
   "execution_count": 17,
   "id": "47e9736f",
   "metadata": {
    "execution": {
     "iopub.execute_input": "2025-04-03T18:08:30.019102Z",
     "iopub.status.busy": "2025-04-03T18:08:30.018767Z",
     "iopub.status.idle": "2025-04-03T18:08:30.310359Z",
     "shell.execute_reply": "2025-04-03T18:08:30.309359Z"
    },
    "papermill": {
     "duration": 0.30175,
     "end_time": "2025-04-03T18:08:30.312118",
     "exception": false,
     "start_time": "2025-04-03T18:08:30.010368",
     "status": "completed"
    },
    "tags": []
   },
   "outputs": [
    {
     "data": {
      "text/plain": [
       "Text(0, 0.5, 'Second Principal Component')"
      ]
     },
     "execution_count": 17,
     "metadata": {},
     "output_type": "execute_result"
    },
    {
     "data": {
      "image/png": "[encoded data removed]",
      "text/plain": [
       "<Figure size 800x600 with 1 Axes>"
      ]
     },
     "metadata": {},
     "output_type": "display_data"
    }
   ],
   "source": [
    "plt.figure(figsize=(8,6))\n",
    "plt.scatter(x_train_pca[:,0], x_train_pca[:,1], c=y_train, cmap='plasma')\n",
    "plt.xlabel('First Principal Component')\n",
    "plt.ylabel('Second Principal Component')"
   ]
  },
  {
   "cell_type": "markdown",
   "id": "4708dc4f",
   "metadata": {
    "papermill": {
     "duration": 0.008417,
     "end_time": "2025-04-03T18:08:30.329756",
     "exception": false,
     "start_time": "2025-04-03T18:08:30.321339",
     "status": "completed"
    },
    "tags": []
   },
   "source": [
    "# Prediction using KNN"
   ]
  },
  {
   "cell_type": "code",
   "execution_count": 18,
   "id": "96ba647c",
   "metadata": {
    "execution": {
     "iopub.execute_input": "2025-04-03T18:08:30.348827Z",
     "iopub.status.busy": "2025-04-03T18:08:30.348485Z",
     "iopub.status.idle": "2025-04-03T18:08:30.414612Z",
     "shell.execute_reply": "2025-04-03T18:08:30.413550Z"
    },
    "papermill": {
     "duration": 0.078057,
     "end_time": "2025-04-03T18:08:30.416586",
     "exception": false,
     "start_time": "2025-04-03T18:08:30.338529",
     "status": "completed"
    },
    "tags": []
   },
   "outputs": [],
   "source": [
    "from sklearn.neighbors import KNeighborsClassifier\n",
    "from sklearn.metrics import accuracy_score"
   ]
  },
  {
   "cell_type": "code",
   "execution_count": 19,
   "id": "9e88d1b4",
   "metadata": {
    "execution": {
     "iopub.execute_input": "2025-04-03T18:08:30.436171Z",
     "iopub.status.busy": "2025-04-03T18:08:30.435790Z",
     "iopub.status.idle": "2025-04-03T18:08:30.449971Z",
     "shell.execute_reply": "2025-04-03T18:08:30.448846Z"
    },
    "papermill": {
     "duration": 0.025627,
     "end_time": "2025-04-03T18:08:30.451542",
     "exception": false,
     "start_time": "2025-04-03T18:08:30.425915",
     "status": "completed"
    },
    "tags": []
   },
   "outputs": [
    {
     "data": {
      "text/html": [
       "<style>#sk-container-id-1 {color: black;background-color: white;}#sk-container-id-1 pre{padding: 0;}#sk-container-id-1 div.sk-toggleable {background-color: white;}#sk-container-id-1 label.sk-toggleable__label {cursor: pointer;display: block;width: 100%;margin-bottom: 0;padding: 0.3em;box-sizing: border-box;text-align: center;}#sk-container-id-1 label.sk-toggleable__label-arrow:before {content: \"▸\";float: left;margin-right: 0.25em;color: #696969;}#sk-container-id-1 label.sk-toggleable__label-arrow:hover:before {color: black;}#sk-container-id-1 div.sk-estimator:hover label.sk-toggleable__label-arrow:before {color: black;}#sk-container-id-1 div.sk-toggleable__content {max-height: 0;max-width: 0;overflow: hidden;text-align: left;background-color: #f0f8ff;}#sk-container-id-1 div.sk-toggleable__content pre {margin: 0.2em;color: black;border-radius: 0.25em;background-color: #f0f8ff;}#sk-container-id-1 input.sk-toggleable__control:checked~div.sk-toggleable__content {max-height: 200px;max-width: 100%;overflow: auto;}#sk-container-id-1 input.sk-toggleable__control:checked~label.sk-toggleable__label-arrow:before {content: \"▾\";}#sk-container-id-1 div.sk-estimator input.sk-toggleable__control:checked~label.sk-toggleable__label {background-color: #d4ebff;}#sk-container-id-1 div.sk-label input.sk-toggleable__control:checked~label.sk-toggleable__label {background-color: #d4ebff;}#sk-container-id-1 input.sk-hidden--visually {border: 0;clip: rect(1px 1px 1px 1px);clip: rect(1px, 1px, 1px, 1px);height: 1px;margin: -1px;overflow: hidden;padding: 0;position: absolute;width: 1px;}#sk-container-id-1 div.sk-estimator {font-family: monospace;background-color: #f0f8ff;border: 1px dotted black;border-radius: 0.25em;box-sizing: border-box;margin-bottom: 0.5em;}#sk-container-id-1 div.sk-estimator:hover {background-color: #d4ebff;}#sk-container-id-1 div.sk-parallel-item::after {content: \"\";width: 100%;border-bottom: 1px solid gray;flex-grow: 1;}#sk-container-id-1 div.sk-label:hover label.sk-toggleable__label {background-color: #d4ebff;}#sk-container-id-1 div.sk-serial::before {content: \"\";position: absolute;border-left: 1px solid gray;box-sizing: border-box;top: 0;bottom: 0;left: 50%;z-index: 0;}#sk-container-id-1 div.sk-serial {display: flex;flex-direction: column;align-items: center;background-color: white;padding-right: 0.2em;padding-left: 0.2em;position: relative;}#sk-container-id-1 div.sk-item {position: relative;z-index: 1;}#sk-container-id-1 div.sk-parallel {display: flex;align-items: stretch;justify-content: center;background-color: white;position: relative;}#sk-container-id-1 div.sk-item::before, #sk-container-id-1 div.sk-parallel-item::before {content: \"\";position: absolute;border-left: 1px solid gray;box-sizing: border-box;top: 0;bottom: 0;left: 50%;z-index: -1;}#sk-container-id-1 div.sk-parallel-item {display: flex;flex-direction: column;z-index: 1;position: relative;background-color: white;}#sk-container-id-1 div.sk-parallel-item:first-child::after {align-self: flex-end;width: 50%;}#sk-container-id-1 div.sk-parallel-item:last-child::after {align-self: flex-start;width: 50%;}#sk-container-id-1 div.sk-parallel-item:only-child::after {width: 0;}#sk-container-id-1 div.sk-dashed-wrapped {border: 1px dashed gray;margin: 0 0.4em 0.5em 0.4em;box-sizing: border-box;padding-bottom: 0.4em;background-color: white;}#sk-container-id-1 div.sk-label label {font-family: monospace;font-weight: bold;display: inline-block;line-height: 1.2em;}#sk-container-id-1 div.sk-label-container {text-align: center;}#sk-container-id-1 div.sk-container {/* jupyter's `normalize.less` sets `[hidden] { display: none; }` but bootstrap.min.css set `[hidden] { display: none !important; }` so we also need the `!important` here to be able to override the default hidden behavior on the sphinx rendered scikit-learn.org. See: https://github.com/scikit-learn/scikit-learn/issues/21755 */display: inline-block !important;position: relative;}#sk-container-id-1 div.sk-text-repr-fallback {display: none;}</style><div id=\"sk-container-id-1\" class=\"sk-top-container\"><div class=\"sk-text-repr-fallback\"><pre>KNeighborsClassifier()</pre><b>In a Jupyter environment, please rerun this cell to show the HTML representation or trust the notebook. <br />On GitHub, the HTML representation is unable to render, please try loading this page with nbviewer.org.</b></div><div class=\"sk-container\" hidden><div class=\"sk-item\"><div class=\"sk-estimator sk-toggleable\"><input class=\"sk-toggleable__control sk-hidden--visually\" id=\"sk-estimator-id-1\" type=\"checkbox\" checked><label for=\"sk-estimator-id-1\" class=\"sk-toggleable__label sk-toggleable__label-arrow\">KNeighborsClassifier</label><div class=\"sk-toggleable__content\"><pre>KNeighborsClassifier()</pre></div></div></div></div></div>"
      ],
      "text/plain": [
       "KNeighborsClassifier()"
      ]
     },
     "execution_count": 19,
     "metadata": {},
     "output_type": "execute_result"
    }
   ],
   "source": [
    "knn = KNeighborsClassifier()\n",
    "\n",
    "knn.fit(x_train,y_train)"
   ]
  },
  {
   "cell_type": "code",
   "execution_count": 20,
   "id": "90f1afb9",
   "metadata": {
    "execution": {
     "iopub.execute_input": "2025-04-03T18:08:30.471657Z",
     "iopub.status.busy": "2025-04-03T18:08:30.471291Z",
     "iopub.status.idle": "2025-04-03T18:08:30.481689Z",
     "shell.execute_reply": "2025-04-03T18:08:30.480679Z"
    },
    "papermill": {
     "duration": 0.022093,
     "end_time": "2025-04-03T18:08:30.483333",
     "exception": false,
     "start_time": "2025-04-03T18:08:30.461240",
     "status": "completed"
    },
    "tags": []
   },
   "outputs": [],
   "source": [
    "y_pred = knn.predict(x_test)"
   ]
  },
  {
   "cell_type": "code",
   "execution_count": 21,
   "id": "76e2afbd",
   "metadata": {
    "execution": {
     "iopub.execute_input": "2025-04-03T18:08:30.503924Z",
     "iopub.status.busy": "2025-04-03T18:08:30.503591Z",
     "iopub.status.idle": "2025-04-03T18:08:30.510345Z",
     "shell.execute_reply": "2025-04-03T18:08:30.509471Z"
    },
    "papermill": {
     "duration": 0.018822,
     "end_time": "2025-04-03T18:08:30.511867",
     "exception": false,
     "start_time": "2025-04-03T18:08:30.493045",
     "status": "completed"
    },
    "tags": []
   },
   "outputs": [
    {
     "data": {
      "text/plain": [
       "0.6885245901639344"
      ]
     },
     "execution_count": 21,
     "metadata": {},
     "output_type": "execute_result"
    }
   ],
   "source": [
    "accuracy_score(y_pred,y_test)"
   ]
  },
  {
   "cell_type": "code",
   "execution_count": 22,
   "id": "40d10a29",
   "metadata": {
    "execution": {
     "iopub.execute_input": "2025-04-03T18:08:30.531955Z",
     "iopub.status.busy": "2025-04-03T18:08:30.531618Z",
     "iopub.status.idle": "2025-04-03T18:08:30.554444Z",
     "shell.execute_reply": "2025-04-03T18:08:30.553226Z"
    },
    "papermill": {
     "duration": 0.034608,
     "end_time": "2025-04-03T18:08:30.556074",
     "exception": false,
     "start_time": "2025-04-03T18:08:30.521466",
     "status": "completed"
    },
    "tags": []
   },
   "outputs": [
    {
     "name": "stdout",
     "output_type": "stream",
     "text": [
      "<class 'pandas.core.frame.DataFrame'>\n",
      "RangeIndex: 303 entries, 0 to 302\n",
      "Data columns (total 14 columns):\n",
      " #   Column    Non-Null Count  Dtype  \n",
      "---  ------    --------------  -----  \n",
      " 0   age       303 non-null    int64  \n",
      " 1   sex       303 non-null    int64  \n",
      " 2   cp        303 non-null    int64  \n",
      " 3   trestbps  303 non-null    int64  \n",
      " 4   chol      303 non-null    int64  \n",
      " 5   fbs       303 non-null    int64  \n",
      " 6   restecg   303 non-null    int64  \n",
      " 7   thalach   303 non-null    int64  \n",
      " 8   exang     303 non-null    int64  \n",
      " 9   oldpeak   303 non-null    float64\n",
      " 10  slope     303 non-null    int64  \n",
      " 11  ca        303 non-null    int64  \n",
      " 12  thal      303 non-null    int64  \n",
      " 13  target    303 non-null    int64  \n",
      "dtypes: float64(1), int64(13)\n",
      "memory usage: 33.3 KB\n",
      "None\n"
     ]
    }
   ],
   "source": [
    "print(df.info())"
   ]
  },
  {
   "cell_type": "markdown",
   "id": "3898f9e0",
   "metadata": {
    "papermill": {
     "duration": 0.009198,
     "end_time": "2025-04-03T18:08:30.575104",
     "exception": false,
     "start_time": "2025-04-03T18:08:30.565906",
     "status": "completed"
    },
    "tags": []
   },
   "source": [
    "# XGBoost"
   ]
  },
  {
   "cell_type": "code",
   "execution_count": 23,
   "id": "2f07f280",
   "metadata": {
    "execution": {
     "iopub.execute_input": "2025-04-03T18:08:30.595370Z",
     "iopub.status.busy": "2025-04-03T18:08:30.594994Z",
     "iopub.status.idle": "2025-04-03T18:08:30.912590Z",
     "shell.execute_reply": "2025-04-03T18:08:30.911737Z"
    },
    "papermill": {
     "duration": 0.329742,
     "end_time": "2025-04-03T18:08:30.914420",
     "exception": false,
     "start_time": "2025-04-03T18:08:30.584678",
     "status": "completed"
    },
    "tags": []
   },
   "outputs": [],
   "source": [
    "import xgboost as xgb"
   ]
  },
  {
   "cell_type": "code",
   "execution_count": 24,
   "id": "c47e2fd7",
   "metadata": {
    "execution": {
     "iopub.execute_input": "2025-04-03T18:08:30.935299Z",
     "iopub.status.busy": "2025-04-03T18:08:30.934914Z",
     "iopub.status.idle": "2025-04-03T18:08:31.038703Z",
     "shell.execute_reply": "2025-04-03T18:08:31.037844Z"
    },
    "papermill": {
     "duration": 0.116118,
     "end_time": "2025-04-03T18:08:31.040625",
     "exception": false,
     "start_time": "2025-04-03T18:08:30.924507",
     "status": "completed"
    },
    "tags": []
   },
   "outputs": [
    {
     "data": {
      "text/html": [
       "<style>#sk-container-id-2 {color: black;background-color: white;}#sk-container-id-2 pre{padding: 0;}#sk-container-id-2 div.sk-toggleable {background-color: white;}#sk-container-id-2 label.sk-toggleable__label {cursor: pointer;display: block;width: 100%;margin-bottom: 0;padding: 0.3em;box-sizing: border-box;text-align: center;}#sk-container-id-2 label.sk-toggleable__label-arrow:before {content: \"▸\";float: left;margin-right: 0.25em;color: #696969;}#sk-container-id-2 label.sk-toggleable__label-arrow:hover:before {color: black;}#sk-container-id-2 div.sk-estimator:hover label.sk-toggleable__label-arrow:before {color: black;}#sk-container-id-2 div.sk-toggleable__content {max-height: 0;max-width: 0;overflow: hidden;text-align: left;background-color: #f0f8ff;}#sk-container-id-2 div.sk-toggleable__content pre {margin: 0.2em;color: black;border-radius: 0.25em;background-color: #f0f8ff;}#sk-container-id-2 input.sk-toggleable__control:checked~div.sk-toggleable__content {max-height: 200px;max-width: 100%;overflow: auto;}#sk-container-id-2 input.sk-toggleable__control:checked~label.sk-toggleable__label-arrow:before {content: \"▾\";}#sk-container-id-2 div.sk-estimator input.sk-toggleable__control:checked~label.sk-toggleable__label {background-color: #d4ebff;}#sk-container-id-2 div.sk-label input.sk-toggleable__control:checked~label.sk-toggleable__label {background-color: #d4ebff;}#sk-container-id-2 input.sk-hidden--visually {border: 0;clip: rect(1px 1px 1px 1px);clip: rect(1px, 1px, 1px, 1px);height: 1px;margin: -1px;overflow: hidden;padding: 0;position: absolute;width: 1px;}#sk-container-id-2 div.sk-estimator {font-family: monospace;background-color: #f0f8ff;border: 1px dotted black;border-radius: 0.25em;box-sizing: border-box;margin-bottom: 0.5em;}#sk-container-id-2 div.sk-estimator:hover {background-color: #d4ebff;}#sk-container-id-2 div.sk-parallel-item::after {content: \"\";width: 100%;border-bottom: 1px solid gray;flex-grow: 1;}#sk-container-id-2 div.sk-label:hover label.sk-toggleable__label {background-color: #d4ebff;}#sk-container-id-2 div.sk-serial::before {content: \"\";position: absolute;border-left: 1px solid gray;box-sizing: border-box;top: 0;bottom: 0;left: 50%;z-index: 0;}#sk-container-id-2 div.sk-serial {display: flex;flex-direction: column;align-items: center;background-color: white;padding-right: 0.2em;padding-left: 0.2em;position: relative;}#sk-container-id-2 div.sk-item {position: relative;z-index: 1;}#sk-container-id-2 div.sk-parallel {display: flex;align-items: stretch;justify-content: center;background-color: white;position: relative;}#sk-container-id-2 div.sk-item::before, #sk-container-id-2 div.sk-parallel-item::before {content: \"\";position: absolute;border-left: 1px solid gray;box-sizing: border-box;top: 0;bottom: 0;left: 50%;z-index: -1;}#sk-container-id-2 div.sk-parallel-item {display: flex;flex-direction: column;z-index: 1;position: relative;background-color: white;}#sk-container-id-2 div.sk-parallel-item:first-child::after {align-self: flex-end;width: 50%;}#sk-container-id-2 div.sk-parallel-item:last-child::after {align-self: flex-start;width: 50%;}#sk-container-id-2 div.sk-parallel-item:only-child::after {width: 0;}#sk-container-id-2 div.sk-dashed-wrapped {border: 1px dashed gray;margin: 0 0.4em 0.5em 0.4em;box-sizing: border-box;padding-bottom: 0.4em;background-color: white;}#sk-container-id-2 div.sk-label label {font-family: monospace;font-weight: bold;display: inline-block;line-height: 1.2em;}#sk-container-id-2 div.sk-label-container {text-align: center;}#sk-container-id-2 div.sk-container {/* jupyter's `normalize.less` sets `[hidden] { display: none; }` but bootstrap.min.css set `[hidden] { display: none !important; }` so we also need the `!important` here to be able to override the default hidden behavior on the sphinx rendered scikit-learn.org. See: https://github.com/scikit-learn/scikit-learn/issues/21755 */display: inline-block !important;position: relative;}#sk-container-id-2 div.sk-text-repr-fallback {display: none;}</style><div id=\"sk-container-id-2\" class=\"sk-top-container\"><div class=\"sk-text-repr-fallback\"><pre>XGBClassifier(base_score=None, booster=None, callbacks=None,\n",
       "              colsample_bylevel=None, colsample_bynode=None,\n",
       "              colsample_bytree=0.8, device=None, early_stopping_rounds=None,\n",
       "              enable_categorical=False, eval_metric=None, feature_types=None,\n",
       "              gamma=None, grow_policy=None, importance_type=None,\n",
       "              interaction_constraints=None, learning_rate=0.1, max_bin=None,\n",
       "              max_cat_threshold=None, max_cat_to_onehot=None,\n",
       "              max_delta_step=None, max_depth=5, max_leaves=None,\n",
       "              min_child_weight=None, missing=nan, monotone_constraints=None,\n",
       "              multi_strategy=None, n_estimators=100, n_jobs=None,\n",
       "              num_parallel_tree=None, random_state=42, ...)</pre><b>In a Jupyter environment, please rerun this cell to show the HTML representation or trust the notebook. <br />On GitHub, the HTML representation is unable to render, please try loading this page with nbviewer.org.</b></div><div class=\"sk-container\" hidden><div class=\"sk-item\"><div class=\"sk-estimator sk-toggleable\"><input class=\"sk-toggleable__control sk-hidden--visually\" id=\"sk-estimator-id-2\" type=\"checkbox\" checked><label for=\"sk-estimator-id-2\" class=\"sk-toggleable__label sk-toggleable__label-arrow\">XGBClassifier</label><div class=\"sk-toggleable__content\"><pre>XGBClassifier(base_score=None, booster=None, callbacks=None,\n",
       "              colsample_bylevel=None, colsample_bynode=None,\n",
       "              colsample_bytree=0.8, device=None, early_stopping_rounds=None,\n",
       "              enable_categorical=False, eval_metric=None, feature_types=None,\n",
       "              gamma=None, grow_policy=None, importance_type=None,\n",
       "              interaction_constraints=None, learning_rate=0.1, max_bin=None,\n",
       "              max_cat_threshold=None, max_cat_to_onehot=None,\n",
       "              max_delta_step=None, max_depth=5, max_leaves=None,\n",
       "              min_child_weight=None, missing=nan, monotone_constraints=None,\n",
       "              multi_strategy=None, n_estimators=100, n_jobs=None,\n",
       "              num_parallel_tree=None, random_state=42, ...)</pre></div></div></div></div></div>"
      ],
      "text/plain": [
       "XGBClassifier(base_score=None, booster=None, callbacks=None,\n",
       "              colsample_bylevel=None, colsample_bynode=None,\n",
       "              colsample_bytree=0.8, device=None, early_stopping_rounds=None,\n",
       "              enable_categorical=False, eval_metric=None, feature_types=None,\n",
       "              gamma=None, grow_policy=None, importance_type=None,\n",
       "              interaction_constraints=None, learning_rate=0.1, max_bin=None,\n",
       "              max_cat_threshold=None, max_cat_to_onehot=None,\n",
       "              max_delta_step=None, max_depth=5, max_leaves=None,\n",
       "              min_child_weight=None, missing=nan, monotone_constraints=None,\n",
       "              multi_strategy=None, n_estimators=100, n_jobs=None,\n",
       "              num_parallel_tree=None, random_state=42, ...)"
      ]
     },
     "execution_count": 24,
     "metadata": {},
     "output_type": "execute_result"
    }
   ],
   "source": [
    "model = xgb.XGBClassifier(\n",
    "    n_estimators=100,\n",
    "    learning_rate=0.1,\n",
    "    max_depth=5,\n",
    "    subsample=0.8,\n",
    "    colsample_bytree=0.8, \n",
    "    random_state=42\n",
    ")\n",
    "\n",
    "model.fit(x_train,y_train)"
   ]
  },
  {
   "cell_type": "code",
   "execution_count": 25,
   "id": "847a60ab",
   "metadata": {
    "execution": {
     "iopub.execute_input": "2025-04-03T18:08:31.062851Z",
     "iopub.status.busy": "2025-04-03T18:08:31.062479Z",
     "iopub.status.idle": "2025-04-03T18:08:31.071454Z",
     "shell.execute_reply": "2025-04-03T18:08:31.070724Z"
    },
    "papermill": {
     "duration": 0.021573,
     "end_time": "2025-04-03T18:08:31.073390",
     "exception": false,
     "start_time": "2025-04-03T18:08:31.051817",
     "status": "completed"
    },
    "tags": []
   },
   "outputs": [],
   "source": [
    "y_pred2 = model.predict(x_test)"
   ]
  },
  {
   "cell_type": "code",
   "execution_count": 26,
   "id": "079b4048",
   "metadata": {
    "execution": {
     "iopub.execute_input": "2025-04-03T18:08:31.096561Z",
     "iopub.status.busy": "2025-04-03T18:08:31.096202Z",
     "iopub.status.idle": "2025-04-03T18:08:31.101450Z",
     "shell.execute_reply": "2025-04-03T18:08:31.100582Z"
    },
    "papermill": {
     "duration": 0.017213,
     "end_time": "2025-04-03T18:08:31.102929",
     "exception": false,
     "start_time": "2025-04-03T18:08:31.085716",
     "status": "completed"
    },
    "tags": []
   },
   "outputs": [
    {
     "data": {
      "text/plain": [
       "array([0, 0, 0, 0, 1, 1, 1, 0, 0, 0, 1, 0, 1, 0, 1, 1, 1, 0, 0, 0, 1, 0,\n",
       "       1, 1, 1, 1, 1, 1, 0, 1, 0, 0, 0, 0, 1, 0, 1, 1, 1, 1, 1, 1, 1, 1,\n",
       "       1, 0, 1, 1, 0, 0, 0, 0, 1, 1, 0, 0, 0, 1, 0, 0, 0])"
      ]
     },
     "execution_count": 26,
     "metadata": {},
     "output_type": "execute_result"
    }
   ],
   "source": [
    "y_pred2"
   ]
  },
  {
   "cell_type": "markdown",
   "id": "4e375c98",
   "metadata": {
    "papermill": {
     "duration": 0.009454,
     "end_time": "2025-04-03T18:08:31.122291",
     "exception": false,
     "start_time": "2025-04-03T18:08:31.112837",
     "status": "completed"
    },
    "tags": []
   },
   "source": [
    "# Accuracy score for XGBoost"
   ]
  },
  {
   "cell_type": "code",
   "execution_count": 27,
   "id": "f8921474",
   "metadata": {
    "execution": {
     "iopub.execute_input": "2025-04-03T18:08:31.143352Z",
     "iopub.status.busy": "2025-04-03T18:08:31.142976Z",
     "iopub.status.idle": "2025-04-03T18:08:31.148937Z",
     "shell.execute_reply": "2025-04-03T18:08:31.147841Z"
    },
    "papermill": {
     "duration": 0.018162,
     "end_time": "2025-04-03T18:08:31.150588",
     "exception": false,
     "start_time": "2025-04-03T18:08:31.132426",
     "status": "completed"
    },
    "tags": []
   },
   "outputs": [
    {
     "name": "stdout",
     "output_type": "stream",
     "text": [
      "0.8524590163934426\n"
     ]
    }
   ],
   "source": [
    "print(accuracy_score(y_pred2,y_test))"
   ]
  },
  {
   "cell_type": "markdown",
   "id": "9a5e6d02",
   "metadata": {
    "papermill": {
     "duration": 0.009728,
     "end_time": "2025-04-03T18:08:31.170318",
     "exception": false,
     "start_time": "2025-04-03T18:08:31.160590",
     "status": "completed"
    },
    "tags": []
   },
   "source": [
    "# Feature Importance"
   ]
  },
  {
   "cell_type": "code",
   "execution_count": 28,
   "id": "5f9de5a1",
   "metadata": {
    "execution": {
     "iopub.execute_input": "2025-04-03T18:08:31.191566Z",
     "iopub.status.busy": "2025-04-03T18:08:31.191218Z",
     "iopub.status.idle": "2025-04-03T18:08:31.721393Z",
     "shell.execute_reply": "2025-04-03T18:08:31.719971Z"
    },
    "papermill": {
     "duration": 0.54307,
     "end_time": "2025-04-03T18:08:31.723453",
     "exception": false,
     "start_time": "2025-04-03T18:08:31.180383",
     "status": "completed"
    },
    "tags": []
   },
   "outputs": [],
   "source": [
    "import matplotlib.pyplot as plt\n",
    "import seaborn as sns"
   ]
  },
  {
   "cell_type": "code",
   "execution_count": 29,
   "id": "433783ce",
   "metadata": {
    "execution": {
     "iopub.execute_input": "2025-04-03T18:08:31.757843Z",
     "iopub.status.busy": "2025-04-03T18:08:31.757205Z",
     "iopub.status.idle": "2025-04-03T18:08:32.142078Z",
     "shell.execute_reply": "2025-04-03T18:08:32.141051Z"
    },
    "papermill": {
     "duration": 0.404484,
     "end_time": "2025-04-03T18:08:32.143822",
     "exception": false,
     "start_time": "2025-04-03T18:08:31.739338",
     "status": "completed"
    },
    "tags": []
   },
   "outputs": [
    {
     "data": {
      "image/png": "[encoded data removed]",
      "text/plain": [
       "<Figure size 1000x500 with 1 Axes>"
      ]
     },
     "metadata": {},
     "output_type": "display_data"
    }
   ],
   "source": [
    "feature_importance = model.feature_importances_\n",
    "\n",
    "importance_df = pd.DataFrame({'Feature': x.columns, 'Importance': feature_importance})\n",
    "importance_df = importance_df.sort_values(by=\"Importance\", ascending=False)\n",
    "\n",
    "plt.figure(figsize=(10, 5))\n",
    "sns.barplot(x=\"Importance\", y=\"Feature\", data=importance_df)\n",
    "plt.title(\"Feature Importance in XGBoost Model\")\n",
    "plt.show()"
   ]
  },
  {
   "cell_type": "markdown",
   "id": "d0b62b34",
   "metadata": {
    "papermill": {
     "duration": 0.010694,
     "end_time": "2025-04-03T18:08:32.165306",
     "exception": false,
     "start_time": "2025-04-03T18:08:32.154612",
     "status": "completed"
    },
    "tags": []
   },
   "source": [
    "# Creating Model"
   ]
  },
  {
   "cell_type": "code",
   "execution_count": 30,
   "id": "6758b736",
   "metadata": {
    "execution": {
     "iopub.execute_input": "2025-04-03T18:08:32.187736Z",
     "iopub.status.busy": "2025-04-03T18:08:32.187383Z",
     "iopub.status.idle": "2025-04-03T18:08:32.199975Z",
     "shell.execute_reply": "2025-04-03T18:08:32.199204Z"
    },
    "papermill": {
     "duration": 0.025994,
     "end_time": "2025-04-03T18:08:32.201970",
     "exception": false,
     "start_time": "2025-04-03T18:08:32.175976",
     "status": "completed"
    },
    "tags": []
   },
   "outputs": [],
   "source": [
    "import pickle\n",
    "\n",
    "with open(\"XGBoost_model.pkl\", \"wb\") as file:\n",
    "    pickle.dump(model, file)\n",
    "\n",
    "model.save_model(\"updated_model.json\")\n"
   ]
  },
  {
   "cell_type": "code",
   "execution_count": null,
   "id": "ceb08041",
   "metadata": {
    "papermill": {
     "duration": 0.010257,
     "end_time": "2025-04-03T18:08:32.225103",
     "exception": false,
     "start_time": "2025-04-03T18:08:32.214846",
     "status": "completed"
    },
    "tags": []
   },
   "outputs": [],
   "source": []
  }
 ],
 "metadata": {
  "kaggle": {
   "accelerator": "none",
   "dataSources": [
    {
     "datasetId": 863468,
     "sourceId": 1471761,
     "sourceType": "datasetVersion"
    }
   ],
   "dockerImageVersionId": 30918,
   "isGpuEnabled": false,
   "isInternetEnabled": true,
   "language": "python",
   "sourceType": "notebook"
  },
  "kernelspec": {
   "display_name": "Python 3",
   "language": "python",
   "name": "python3"
  },
  "language_info": {
   "codemirror_mode": {
    "name": "ipython",
    "version": 3
   },
   "file_extension": ".py",
   "mimetype": "text/x-python",
   "name": "python",
   "nbconvert_exporter": "python",
   "pygments_lexer": "ipython3",
   "version": "3.10.12"
  },
  "papermill": {
   "default_parameters": {},
   "duration": 9.186314,
   "end_time": "2025-04-03T18:08:32.956535",
   "environment_variables": {},
   "exception": null,
   "input_path": "__notebook__.ipynb",
   "output_path": "__notebook__.ipynb",
   "parameters": {},
   "start_time": "2025-04-03T18:08:23.770221",
   "version": "2.6.0"
  }
 },
 "nbformat": 4,
 "nbformat_minor": 5
}
